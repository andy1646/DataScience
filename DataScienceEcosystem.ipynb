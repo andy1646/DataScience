{
 "cells": [
  {
   "cell_type": "markdown",
   "id": "3bc68dde",
   "metadata": {},
   "source": [
    "# Data Science Tools and Ecosystem"
   ]
  },
  {
   "cell_type": "markdown",
   "id": "16470d99",
   "metadata": {},
   "source": [
    "In this notebook, Data Science Tools and Ecosytem are summarized."
   ]
  },
  {
   "cell_type": "markdown",
   "id": "61f9dcf1",
   "metadata": {},
   "source": [
    "**Objectives:**\n",
    "- List popular languages for Data Science\n",
    "- List commonly used libraries by Data Scientist\n",
    "- Create an arithmetic expression"
   ]
  },
  {
   "cell_type": "markdown",
   "id": "e3cfea78",
   "metadata": {},
   "source": [
    "Some of the popular languages that Data Scientist use are:\n",
    "1. Python\n",
    "2. R\n",
    "3. Java"
   ]
  },
  {
   "cell_type": "markdown",
   "id": "74c23ea4",
   "metadata": {},
   "source": [
    "Some of the commonly used libraries used by Data Scientist include:\n",
    "1. NumPy\n",
    "2. Matplotlib\n",
    "3. Seaborn"
   ]
  },
  {
   "cell_type": "markdown",
   "id": "bda0c98c",
   "metadata": {},
   "source": [
    "|Data Science Tools|\n",
    "| ------ |\n",
    "| Jupyter Notebooks |\n",
    "| RStudio |\n",
    "| Jupyter Labs |\n"
   ]
  },
  {
   "cell_type": "markdown",
   "id": "7963d0c5",
   "metadata": {},
   "source": [
    "### Below are a few examples of evaluating arithmetic expressions in Pythong"
   ]
  },
  {
   "cell_type": "code",
   "execution_count": 2,
   "id": "16047288",
   "metadata": {},
   "outputs": [],
   "source": [
    "# This a simple arithmetic expression to mutiply then add integers"
   ]
  },
  {
   "cell_type": "code",
   "execution_count": 3,
   "id": "bbc4b7f3",
   "metadata": {},
   "outputs": [
    {
     "data": {
      "text/plain": [
       "17"
      ]
     },
     "execution_count": 3,
     "metadata": {},
     "output_type": "execute_result"
    }
   ],
   "source": [
    "(3*4)+5"
   ]
  },
  {
   "cell_type": "code",
   "execution_count": 4,
   "id": "9d73d170",
   "metadata": {},
   "outputs": [
    {
     "data": {
      "text/plain": [
       "3.3333333333333335"
      ]
     },
     "execution_count": 4,
     "metadata": {},
     "output_type": "execute_result"
    }
   ],
   "source": [
    "# This will convert 200 minutes to hours by diving by 60\n",
    "200/60"
   ]
  },
  {
   "cell_type": "markdown",
   "id": "088cd898",
   "metadata": {},
   "source": [
    "## Author\n",
    "Andy Bernabe"
   ]
  },
  {
   "cell_type": "code",
   "execution_count": null,
   "id": "a85512f7",
   "metadata": {},
   "outputs": [],
   "source": []
  }
 ],
 "metadata": {
  "kernelspec": {
   "display_name": "Python 3 (ipykernel)",
   "language": "python",
   "name": "python3"
  },
  "language_info": {
   "codemirror_mode": {
    "name": "ipython",
    "version": 3
   },
   "file_extension": ".py",
   "mimetype": "text/x-python",
   "name": "python",
   "nbconvert_exporter": "python",
   "pygments_lexer": "ipython3",
   "version": "3.10.9"
  }
 },
 "nbformat": 4,
 "nbformat_minor": 5
}
